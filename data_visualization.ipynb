{
 "cells": [
  {
   "cell_type": "code",
   "execution_count": 2,
   "metadata": {},
   "outputs": [],
   "source": [
    "import pandas as pd\n",
    "import numpy as np\n",
    "import matplotlib.pyplot as plt\n",
    "import seaborn as sns"
   ]
  },
  {
   "cell_type": "markdown",
   "metadata": {},
   "source": [
    "# DST VALUES"
   ]
  },
  {
   "cell_type": "code",
   "execution_count": 17,
   "metadata": {},
   "outputs": [],
   "source": [
    "#headers = ['INDEX', 'YM * D', 'X + VERSION + YEAR'] + ['BASE VALUE','','','']  + ['1','','2','','3','','4','','5','','6','','7','','8','','9','','10','','11','','12','','13','','14','','15','','16','','17','','18','','19','','20','','21','','22','','23','','24'] + ['DAILY MEAN VALUE','','','' ]\n",
    "headers = ['INDEX', 'YYMM * DD', 'X + VERSION + YEAR'] + ['BASE VALUE']  + ['1','2','3','4','5','6','7','8','9','10','11','12','13','14','15','16','17','18','19','20','21','22','23','24'] + ['DAILY MEAN VALUE']\n",
    "\n",
    "\"\"\" \n",
    "    Version number (0: quicklook, 1: provisional, 2: final, 3+: corrected final)\n",
    "    Columns 17-20: Base value, unit 100 nT\n",
    "    Columns 21-116: 24 hourly values, 4 digits each, unit 1 nT (value 9999 for missing data)\n",
    "    Columns 117-120: Daily mean value, unit 1 nT (value 9999 for missing data)\n",
    "\"\"\"\n",
    "\n",
    "\n",
    "df = pd.read_csv('Ionospheric-TEC-predictions\\Data\\DST values(2014Jan - 2024Jan).txt', delim_whitespace=True, header=None)\n",
    "df.columns = headers\n",
    "df.head()\n",
    "\n",
    "df.to_csv('Ionospheric-TEC-predictions/Data/DST.csv')"
   ]
  }
 ],
 "metadata": {
  "kernelspec": {
   "display_name": "Python 3",
   "language": "python",
   "name": "python3"
  },
  "language_info": {
   "codemirror_mode": {
    "name": "ipython",
    "version": 3
   },
   "file_extension": ".py",
   "mimetype": "text/x-python",
   "name": "python",
   "nbconvert_exporter": "python",
   "pygments_lexer": "ipython3",
   "version": "3.11.5"
  }
 },
 "nbformat": 4,
 "nbformat_minor": 2
}
