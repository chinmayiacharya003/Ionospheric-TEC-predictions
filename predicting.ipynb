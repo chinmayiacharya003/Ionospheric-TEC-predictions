{
 "cells": [
  {
   "cell_type": "code",
   "execution_count": 24,
   "metadata": {},
   "outputs": [],
   "source": [
    "import pandas as pd\n",
    "import re\n",
    "import numpy as np\n",
    "from sklearn.preprocessing import MinMaxScaler\n",
    "from tensorflow.keras.models import load_model"
   ]
  },
  {
   "cell_type": "code",
   "execution_count": 25,
   "metadata": {},
   "outputs": [],
   "source": [
    "with open('data_20240723.txt', 'r') as f:\n",
    "    data = f.read()\n",
    "\n",
    "data_pattern = re.compile(r'(\\d{4})\\s+(\\d{3})\\s+(\\d{1,2})\\s+(\\d{1,2})\\s+(\\d{3})\\s+([-]?\\d+)\\s+(\\d+)\\s+(\\d{3}\\.\\d)')\n",
    "matches = data_pattern.findall(data)"
   ]
  },
  {
   "cell_type": "code",
   "execution_count": 26,
   "metadata": {},
   "outputs": [],
   "source": [
    "columns = ['YEAR', 'DOY', 'HR', 'Kp_index', 'R', 'Dst_index', 'ap_index', 'f10.7_index']\n",
    "df = pd.DataFrame(matches, columns=columns)"
   ]
  },
  {
   "cell_type": "code",
   "execution_count": 27,
   "metadata": {},
   "outputs": [],
   "source": [
    "df = df.astype({\n",
    "    'YEAR': int,\n",
    "    'DOY': int,\n",
    "    'HR': int,\n",
    "    'Kp_index': int,\n",
    "    'R': int,\n",
    "    'Dst_index': int,\n",
    "    'ap_index': int,\n",
    "    'f10.7_index': float\n",
    "})\n"
   ]
  },
  {
   "cell_type": "code",
   "execution_count": 28,
   "metadata": {},
   "outputs": [
    {
     "data": {
      "text/html": [
       "<div>\n",
       "<style scoped>\n",
       "    .dataframe tbody tr th:only-of-type {\n",
       "        vertical-align: middle;\n",
       "    }\n",
       "\n",
       "    .dataframe tbody tr th {\n",
       "        vertical-align: top;\n",
       "    }\n",
       "\n",
       "    .dataframe thead th {\n",
       "        text-align: right;\n",
       "    }\n",
       "</style>\n",
       "<table border=\"1\" class=\"dataframe\">\n",
       "  <thead>\n",
       "    <tr style=\"text-align: right;\">\n",
       "      <th></th>\n",
       "      <th>YEAR</th>\n",
       "      <th>DOY</th>\n",
       "      <th>HR</th>\n",
       "      <th>Kp_index</th>\n",
       "      <th>R</th>\n",
       "      <th>Dst_index</th>\n",
       "      <th>ap_index</th>\n",
       "      <th>f10.7_index</th>\n",
       "    </tr>\n",
       "  </thead>\n",
       "  <tbody>\n",
       "    <tr>\n",
       "      <th>0</th>\n",
       "      <td>2024</td>\n",
       "      <td>191</td>\n",
       "      <td>0</td>\n",
       "      <td>20</td>\n",
       "      <td>999</td>\n",
       "      <td>7</td>\n",
       "      <td>7</td>\n",
       "      <td>184.2</td>\n",
       "    </tr>\n",
       "    <tr>\n",
       "      <th>1</th>\n",
       "      <td>2024</td>\n",
       "      <td>191</td>\n",
       "      <td>1</td>\n",
       "      <td>20</td>\n",
       "      <td>999</td>\n",
       "      <td>9</td>\n",
       "      <td>7</td>\n",
       "      <td>184.2</td>\n",
       "    </tr>\n",
       "    <tr>\n",
       "      <th>2</th>\n",
       "      <td>2024</td>\n",
       "      <td>191</td>\n",
       "      <td>2</td>\n",
       "      <td>20</td>\n",
       "      <td>999</td>\n",
       "      <td>10</td>\n",
       "      <td>7</td>\n",
       "      <td>184.2</td>\n",
       "    </tr>\n",
       "    <tr>\n",
       "      <th>3</th>\n",
       "      <td>2024</td>\n",
       "      <td>191</td>\n",
       "      <td>3</td>\n",
       "      <td>17</td>\n",
       "      <td>999</td>\n",
       "      <td>7</td>\n",
       "      <td>6</td>\n",
       "      <td>184.2</td>\n",
       "    </tr>\n",
       "    <tr>\n",
       "      <th>4</th>\n",
       "      <td>2024</td>\n",
       "      <td>191</td>\n",
       "      <td>4</td>\n",
       "      <td>17</td>\n",
       "      <td>999</td>\n",
       "      <td>4</td>\n",
       "      <td>6</td>\n",
       "      <td>184.2</td>\n",
       "    </tr>\n",
       "  </tbody>\n",
       "</table>\n",
       "</div>"
      ],
      "text/plain": [
       "   YEAR  DOY  HR  Kp_index    R  Dst_index  ap_index  f10.7_index\n",
       "0  2024  191   0        20  999          7         7        184.2\n",
       "1  2024  191   1        20  999          9         7        184.2\n",
       "2  2024  191   2        20  999         10         7        184.2\n",
       "3  2024  191   3        17  999          7         6        184.2\n",
       "4  2024  191   4        17  999          4         6        184.2"
      ]
     },
     "execution_count": 28,
     "metadata": {},
     "output_type": "execute_result"
    }
   ],
   "source": [
    "df.head()"
   ]
  },
  {
   "cell_type": "code",
   "execution_count": 29,
   "metadata": {},
   "outputs": [
    {
     "data": {
      "text/plain": [
       "(24, 8)"
      ]
     },
     "execution_count": 29,
     "metadata": {},
     "output_type": "execute_result"
    }
   ],
   "source": [
    "df.shape"
   ]
  },
  {
   "cell_type": "code",
   "execution_count": 73,
   "metadata": {},
   "outputs": [
    {
     "name": "stdout",
     "output_type": "stream",
     "text": [
      "   YEAR    R  f10.7_index        TEC\n",
      "0  2024  999        184.2  14.568092\n",
      "1  2024  999        184.2  19.529626\n",
      "2  2024  999        184.2  20.876190\n",
      "3  2024  999        184.2  20.838248\n",
      "4  2024  999        184.2  22.188218\n"
     ]
    },
    {
     "name": "stderr",
     "output_type": "stream",
     "text": [
      "C:\\Users\\Admin\\AppData\\Local\\Temp\\ipykernel_3264\\598011330.py:2: SettingWithCopyWarning: \n",
      "A value is trying to be set on a copy of a slice from a DataFrame.\n",
      "Try using .loc[row_indexer,col_indexer] = value instead\n",
      "\n",
      "See the caveats in the documentation: https://pandas.pydata.org/pandas-docs/stable/user_guide/indexing.html#returning-a-view-versus-a-copy\n",
      "  new_df['TEC'] = np.random.uniform(7, 40, size=len(new_df))\n"
     ]
    }
   ],
   "source": [
    "new_df = df[['YEAR', 'R', 'f10.7_index']] \n",
    "new_df['TEC'] = np.random.uniform(7, 40, size=len(new_df))\n",
    "print(new_df.head())"
   ]
  },
  {
   "cell_type": "code",
   "execution_count": 74,
   "metadata": {},
   "outputs": [
    {
     "data": {
      "text/plain": [
       "(24, 4)"
      ]
     },
     "execution_count": 74,
     "metadata": {},
     "output_type": "execute_result"
    }
   ],
   "source": [
    "new_df.shape"
   ]
  },
  {
   "cell_type": "code",
   "execution_count": 75,
   "metadata": {},
   "outputs": [],
   "source": [
    "def df_to_X_y2(df, window_size=6):\n",
    "    df_as_np = df.to_numpy()\n",
    "    X = []\n",
    "    y = []\n",
    "    for i in range(len(df_as_np) - window_size):\n",
    "        row = [r for r in df_as_np[i:i + window_size]]\n",
    "        X.append(row)\n",
    "        label = df_as_np[i + window_size][0]  # Adjust the label indexing as necessary\n",
    "        y.append(label)\n",
    "    return np.array(X), np.array(y)\n",
    "\n",
    "NEW_WINDOW_SIZE = 6\n",
    "X_new, y_new = df_to_X_y2(new_df, NEW_WINDOW_SIZE)\n",
    "\n",
    "\n"
   ]
  },
  {
   "cell_type": "code",
   "execution_count": 76,
   "metadata": {},
   "outputs": [
    {
     "name": "stdout",
     "output_type": "stream",
     "text": [
      "(18, 6, 4) (18,)\n"
     ]
    }
   ],
   "source": [
    "scaler = MinMaxScaler()\n",
    "\n",
    "# Fit and transform the new data\n",
    "X_new_normalized = scaler.fit_transform(X_new.reshape(-1, X_new.shape[-1])).reshape(X_new.shape)\n",
    "y_new_normalized = scaler.fit_transform(y_new.reshape(-1, y_new.shape[-1])).reshape(y_new.shape)\n",
    "\n",
    "print(X_new_normalized.shape, y_new_normalized.shape)"
   ]
  },
  {
   "cell_type": "code",
   "execution_count": 77,
   "metadata": {},
   "outputs": [],
   "source": [
    "# Load the trained model\n",
    "model4 = load_model('models/model4/m4.keras')\n"
   ]
  },
  {
   "cell_type": "code",
   "execution_count": 80,
   "metadata": {},
   "outputs": [
    {
     "name": "stdout",
     "output_type": "stream",
     "text": [
      "\u001b[1m1/1\u001b[0m \u001b[32m━━━━━━━━━━━━━━━━━━━━\u001b[0m\u001b[37m\u001b[0m \u001b[1m0s\u001b[0m 34ms/step\n",
      "[[0.06502514]\n",
      " [0.06191748]\n",
      " [0.07720579]\n",
      " [0.07298747]\n",
      " [0.06968622]\n",
      " [0.0598887 ]\n",
      " [0.06996785]\n",
      " [0.05573836]\n",
      " [0.05986166]\n",
      " [0.07884497]\n",
      " [0.07012325]\n",
      " [0.07476675]\n",
      " [0.06861025]\n",
      " [0.06897419]\n",
      " [0.05893276]\n",
      " [0.06304539]\n",
      " [0.05702827]\n",
      " [0.07277729]]\n"
     ]
    }
   ],
   "source": [
    "# Predicting the values\n",
    "predictions = model4.predict(X_new_normalized)\n",
    "\n",
    "# Inverse transform the predictions if necessary\n",
    "#predictions = scaler.inverse_transform(predictions)\n",
    "\n",
    "print(predictions)\n"
   ]
  }
 ],
 "metadata": {
  "kernelspec": {
   "display_name": "Python 3",
   "language": "python",
   "name": "python3"
  },
  "language_info": {
   "codemirror_mode": {
    "name": "ipython",
    "version": 3
   },
   "file_extension": ".py",
   "mimetype": "text/x-python",
   "name": "python",
   "nbconvert_exporter": "python",
   "pygments_lexer": "ipython3",
   "version": "3.11.4"
  }
 },
 "nbformat": 4,
 "nbformat_minor": 2
}
